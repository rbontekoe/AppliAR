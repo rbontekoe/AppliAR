{
 "cells": [
  {
   "cell_type": "markdown",
   "metadata": {},
   "source": [
    "## Using the Bukdu Webserver Framework\n",
    "\n",
    "You can use just this code also in a Docker container.\n",
    "\n",
    "First run the notebook ar.ipynb to create the datafiles in the containers test_sshd and test_sshd2!"
   ]
  },
  {
   "cell_type": "code",
   "execution_count": 1,
   "metadata": {},
   "outputs": [
    {
     "name": "stderr",
     "output_type": "stream",
     "text": [
      "\u001b[32m\u001b[1m Activating\u001b[22m\u001b[39m environment at `~/projects/TestAppliAR/Project.toml`\n"
     ]
    }
   ],
   "source": [
    "using Pkg; Pkg.activate(\".\")"
   ]
  },
  {
   "cell_type": "code",
   "execution_count": 2,
   "metadata": {},
   "outputs": [],
   "source": [
    "using Bukdu, Distributed, DataFrames"
   ]
  },
  {
   "cell_type": "markdown",
   "metadata": {},
   "source": [
    "### Define the controller\n",
    "\n",
    "The controller object gives access to the request and response object. E.g `resp = WebController.conn.response` what you need to read the fields of a web form. "
   ]
  },
  {
   "cell_type": "code",
   "execution_count": 3,
   "metadata": {},
   "outputs": [],
   "source": [
    "struct WebController <: ApplicationController\n",
    "    conn::Conn\n",
    "end"
   ]
  },
  {
   "cell_type": "markdown",
   "metadata": {},
   "source": [
    "### The Functions\n",
    "\n",
    "The functions we use in this example are located in the file functions.jl. All function needs the object WebController as argument, except the function template!\n",
    "\n",
    "- template(t::String), the Bootstrap template.\n",
    "- index(c::WebController)\n",
    "- aging_report(c::WebController)\n",
    "\n",
    "#### Bootstrap template\n",
    "\n",
    "'Very often, especially on small screens, you want to hide the navigation links and replace them with a button that should reveal them when clicked on.'\n",
    "\n",
    "See w3schools.com: [Collapsing The Navigation Bar](https://www.w3schools.com/bootstrap4/tryit.asp?filename=trybs_navbar_collapse)"
   ]
  },
  {
   "cell_type": "code",
   "execution_count": 4,
   "metadata": {},
   "outputs": [],
   "source": [
    "include(\"functions.jl\");"
   ]
  },
  {
   "cell_type": "markdown",
   "metadata": {},
   "source": [
    "### Define the default route"
   ]
  },
  {
   "cell_type": "code",
   "execution_count": 5,
   "metadata": {},
   "outputs": [
    {
     "data": {
      "text/plain": [
       "\"/\""
      ]
     },
     "execution_count": 5,
     "metadata": {},
     "output_type": "execute_result"
    }
   ],
   "source": [
    "routes() do\n",
    "  get(\"/\", WebController, index)\n",
    "end"
   ]
  },
  {
   "cell_type": "markdown",
   "metadata": {},
   "source": [
    "### Connect to the Docker containers test_sshd and test_sshd2\n",
    "\n",
    "The course [BAWJ](https://www.appligate.nl/BAWJ/stable/chapter13/#.-Creating-SSH-Enabled-Containers) shows how to create the containers. "
   ]
  },
  {
   "cell_type": "code",
   "execution_count": 6,
   "metadata": {},
   "outputs": [],
   "source": [
    "addprocs([(\"rob@172.17.0.2\", 1)]; exeflags=`--project=$(Base.active_project())`, tunnel=true, dir=\"/home/rob\")\n",
    "addprocs([(\"rob@172.17.0.3\", 1)]; exeflags=`--project=$(Base.active_project())`, tunnel=true, dir=\"/home/rob\")\n",
    "gl_pid = procs()[2] # general ledger\n",
    "ar_pid = procs()[3] # accounts receivable (invoices/bankstatements)\n",
    "@everywhere using AppliSales\n",
    "@everywhere using AppliGeneralLedger\n",
    "@everywhere using AppliAR\n",
    "@everywhere using Query"
   ]
  },
  {
   "cell_type": "markdown",
   "metadata": {},
   "source": [
    "### Retrieve the aging report"
   ]
  },
  {
   "cell_type": "code",
   "execution_count": 7,
   "metadata": {},
   "outputs": [
    {
     "data": {
      "text/html": [
       "<table class=\"data-frame\"><thead><tr><th></th><th>id_inv</th><th>csm</th><th>inv_date</th><th>amount</th><th>days</th></tr><tr><th></th><th>String</th><th>String</th><th>Dates…</th><th>Float64</th><th>Dates…</th></tr></thead><tbody><p>1 rows × 5 columns</p><tr><th>1</th><td>A1001</td><td>Scrooge Investment Bank</td><td>Date(\"2021-01-05\")</td><td>1210.0</td><td>Day(0)</td></tr></tbody></table>"
      ],
      "text/latex": [
       "\\begin{tabular}{r|ccccc}\n",
       "\t& id\\_inv & csm & inv\\_date & amount & days\\\\\n",
       "\t\\hline\n",
       "\t& String & String & Dates… & Float64 & Dates…\\\\\n",
       "\t\\hline\n",
       "\t1 & A1001 & Scrooge Investment Bank & Date(\"2021-01-05\") & 1210.0 & Day(0) \\\\\n",
       "\\end{tabular}\n"
      ],
      "text/plain": [
       "1×5 DataFrame. Omitted printing of 1 columns\n",
       "│ Row │ id_inv │ csm                     │ inv_date           │ amount  │\n",
       "│     │ \u001b[90mString\u001b[39m │ \u001b[90mString\u001b[39m                  │ \u001b[90mDates.Date\u001b[39m         │ \u001b[90mFloat64\u001b[39m │\n",
       "├─────┼────────┼─────────────────────────┼────────────────────┼─────────┤\n",
       "│ 1   │ A1001  │ Scrooge Investment Bank │ Date(\"2021-01-05\") │ 1210.0  │"
      ]
     },
     "execution_count": 7,
     "metadata": {},
     "output_type": "execute_result"
    }
   ],
   "source": [
    "ar = @fetchfrom ar_pid report()\n",
    "ar |> DataFrame"
   ]
  },
  {
   "cell_type": "markdown",
   "metadata": {},
   "source": [
    "### Show the aging report on your website"
   ]
  },
  {
   "cell_type": "code",
   "execution_count": 8,
   "metadata": {},
   "outputs": [
    {
     "data": {
      "text/plain": [
       "\"/agingreport\""
      ]
     },
     "execution_count": 8,
     "metadata": {},
     "output_type": "execute_result"
    }
   ],
   "source": [
    "routes() do\n",
    "  get(\"/agingreport\", WebController, aging_report)\n",
    "end"
   ]
  },
  {
   "cell_type": "markdown",
   "metadata": {},
   "source": [
    "### Start the server\n",
    "\n",
    "The webserver will listen at port 8004. This port must be opened in Ubuntu.\n",
    "- sudo ufw -h\n",
    "- sudo ufw status\n",
    "- sudo ufw enable\n",
    "- sudo ufw allow 8004/tcp\n",
    "\n",
    "After starting the web server go to '127.0.0.1:8004'. You can also use the ip-address (ifconfig) of your computer, e.g. 192.168.1.35:8004."
   ]
  },
  {
   "cell_type": "code",
   "execution_count": 9,
   "metadata": {},
   "outputs": [
    {
     "name": "stdout",
     "output_type": "stream",
     "text": [
      "Bukdu Listening on \u001b[32m0.0.0.0:8004\u001b[39m\n"
     ]
    },
    {
     "data": {
      "text/plain": [
       "Task (runnable) @0x00007f31fc168010"
      ]
     },
     "execution_count": 9,
     "metadata": {},
     "output_type": "execute_result"
    }
   ],
   "source": [
    "Bukdu.start(8004, host=\"0.0.0.0\")"
   ]
  },
  {
   "cell_type": "markdown",
   "metadata": {},
   "source": [
    "## Utilities"
   ]
  },
  {
   "cell_type": "markdown",
   "metadata": {},
   "source": [
    "### Stop the webserver"
   ]
  },
  {
   "cell_type": "code",
   "execution_count": 13,
   "metadata": {},
   "outputs": [
    {
     "name": "stdout",
     "output_type": "stream",
     "text": [
      "Bukdu has stopped.\n"
     ]
    }
   ],
   "source": [
    "Bukdu.stop()"
   ]
  },
  {
   "cell_type": "markdown",
   "metadata": {},
   "source": [
    "### Display General Ledger Accounts\n",
    "- 1150 - Bank\n",
    "- 1300 - Accounts Receivable\n",
    "- 4000 - VAT\n",
    "- 8000 - Sales"
   ]
  },
  {
   "cell_type": "code",
   "execution_count": 13,
   "metadata": {},
   "outputs": [
    {
     "data": {
      "text/plain": [
       "1300"
      ]
     },
     "execution_count": 13,
     "metadata": {},
     "output_type": "execute_result"
    }
   ],
   "source": [
    "gl_account_id = 1300"
   ]
  },
  {
   "cell_type": "code",
   "execution_count": 14,
   "metadata": {},
   "outputs": [
    {
     "data": {
      "text/html": [
       "<table class=\"data-frame\"><thead><tr><th></th><th>invoice_nbr</th><th>customerid</th><th>debit</th><th>credit</th><th>descr</th></tr><tr><th></th><th>String</th><th>String</th><th>Float64</th><th>Float64</th><th>String</th></tr></thead><tbody><p>5 rows × 5 columns</p><tr><th>1</th><td>A1001</td><td>Scrooge Investment Bank</td><td>1210.0</td><td>0.0</td><td>Learn Smiling</td></tr><tr><th>2</th><td>A1002</td><td>Duck City Chronicals</td><td>2420.0</td><td>0.0</td><td>Learn Smiling</td></tr><tr><th>3</th><td>A1003</td><td>Donalds Hardware Store</td><td>1210.0</td><td>0.0</td><td>Learn Smiling</td></tr><tr><th>4</th><td>A1002</td><td>Duck City Chronicals</td><td>0.0</td><td>2420.0</td><td>Learn Smiling</td></tr><tr><th>5</th><td>A1003</td><td>Donalds Hardware Store</td><td>0.0</td><td>1210.0</td><td>Learn Smiling</td></tr></tbody></table>"
      ],
      "text/latex": [
       "\\begin{tabular}{r|ccccc}\n",
       "\t& invoice\\_nbr & customerid & debit & credit & descr\\\\\n",
       "\t\\hline\n",
       "\t& String & String & Float64 & Float64 & String\\\\\n",
       "\t\\hline\n",
       "\t1 & A1001 & Scrooge Investment Bank & 1210.0 & 0.0 & Learn Smiling \\\\\n",
       "\t2 & A1002 & Duck City Chronicals & 2420.0 & 0.0 & Learn Smiling \\\\\n",
       "\t3 & A1003 & Donalds Hardware Store & 1210.0 & 0.0 & Learn Smiling \\\\\n",
       "\t4 & A1002 & Duck City Chronicals & 0.0 & 2420.0 & Learn Smiling \\\\\n",
       "\t5 & A1003 & Donalds Hardware Store & 0.0 & 1210.0 & Learn Smiling \\\\\n",
       "\\end{tabular}\n"
      ],
      "text/plain": [
       "5×5 DataFrame. Omitted printing of 1 columns\n",
       "│ Row │ invoice_nbr │ customerid              │ debit   │ credit  │\n",
       "│     │ \u001b[90mString\u001b[39m      │ \u001b[90mString\u001b[39m                  │ \u001b[90mFloat64\u001b[39m │ \u001b[90mFloat64\u001b[39m │\n",
       "├─────┼─────────────┼─────────────────────────┼─────────┼─────────┤\n",
       "│ 1   │ A1001       │ Scrooge Investment Bank │ 1210.0  │ 0.0     │\n",
       "│ 2   │ A1002       │ Duck City Chronicals    │ 2420.0  │ 0.0     │\n",
       "│ 3   │ A1003       │ Donalds Hardware Store  │ 1210.0  │ 0.0     │\n",
       "│ 4   │ A1002       │ Duck City Chronicals    │ 0.0     │ 2420.0  │\n",
       "│ 5   │ A1003       │ Donalds Hardware Store  │ 0.0     │ 1210.0  │"
      ]
     },
     "execution_count": 14,
     "metadata": {},
     "output_type": "execute_result"
    }
   ],
   "source": [
    "gl = @fetchfrom gl_pid AppliGeneralLedger.read_from_file(\"./test_ledger.txt\")\n",
    "df = gl |> @filter(_.accountid == gl_account_id) |> DataFrame\n",
    "df[[:invoice_nbr, :customerid, :debit, :credit, :descr]]"
   ]
  },
  {
   "cell_type": "code",
   "execution_count": null,
   "metadata": {},
   "outputs": [],
   "source": []
  }
 ],
 "metadata": {
  "kernelspec": {
   "display_name": "Julia 1.5.3",
   "language": "julia",
   "name": "julia-1.5"
  },
  "language_info": {
   "file_extension": ".jl",
   "mimetype": "application/julia",
   "name": "julia",
   "version": "1.5.3"
  }
 },
 "nbformat": 4,
 "nbformat_minor": 4
}
